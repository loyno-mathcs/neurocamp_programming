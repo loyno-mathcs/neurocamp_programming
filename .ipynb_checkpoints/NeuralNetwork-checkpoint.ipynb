{
 "cells": [
  {
   "cell_type": "markdown",
   "metadata": {},
   "source": [
    "# Miniature Neural Network Example\n",
    "\n",
    "This notebook implements a neural network that, when sufficiently trained, can execute exclusive or (XOR) decisions.\n",
    "\n",
    "This is based on [the implementation by Konstantinos Kitsios](https://towardsdatascience.com/how-to-build-a-simple-neural-network-from-scratch-with-python-9f011896d2f3), with [source code on GitLab](https://gitlab.com/kitsiosk/xor-neural-net/tree/master).\n",
    "\n",
    "## Import libraries\n",
    "\n",
    "First, we'll be working with numerical matrices. Since these data structures are not part of the base collection of Python 3 libraries, we'll need to import a new library `numpy` to take care of that. When we import, we're providing an alias `np` so that we can use this to refer to that library in an abbreviated manner in future code."
   ]
  },
  {
   "cell_type": "code",
   "execution_count": 1,
   "metadata": {},
   "outputs": [],
   "source": [
    "import numpy as np"
   ]
  },
  {
   "cell_type": "markdown",
   "metadata": {},
   "source": [
    "Let's look at this library a bit.\n",
    "\n",
    "## Intro to matrices in NumPy\n",
    "\n",
    "Matrices are mathematical structures represented as a grid of numbers, for example:\n",
    "\n",
    "$$\\begin{bmatrix} \n",
    "1 & 2 & 3 \\\\\n",
    "4 & 5 & 6\n",
    "\\end{bmatrix}$$\n",
    "\n",
    "In NumPy, matrices are represented as arrays filled with arrays of numbers, each representing a row of the matrix.\n",
    "\n",
    "We can create matrices filled with random numbers, or with ones or zeros easily using NumPy's convenience functions."
   ]
  },
  {
   "cell_type": "code",
   "execution_count": 3,
   "metadata": {},
   "outputs": [
    {
     "data": {
      "text/plain": [
       "array([[-0.43773836,  0.30405338],\n",
       "       [-0.12310372,  1.62265474],\n",
       "       [ 1.07894756,  0.36820657]])"
      ]
     },
     "execution_count": 3,
     "metadata": {},
     "output_type": "execute_result"
    }
   ],
   "source": [
    "np.random.randn(3, 2)"
   ]
  },
  {
   "cell_type": "code",
   "execution_count": 33,
   "metadata": {},
   "outputs": [
    {
     "data": {
      "text/plain": [
       "array([[ 0.69946656, -1.02740829, -0.24420973, -0.2411146 , -0.61887109],\n",
       "       [-0.4944247 ,  0.56966557,  1.07035792, -1.14609221,  0.69111952],\n",
       "       [ 0.82643473,  0.92277872, -0.25948179,  0.72127418,  1.56117944],\n",
       "       [-0.25629474,  0.65354462, -0.30536742, -0.96844837, -0.15398082],\n",
       "       [-0.56258033,  0.07955386, -1.59653425, -0.22107714,  1.68083691]])"
      ]
     },
     "execution_count": 33,
     "metadata": {},
     "output_type": "execute_result"
    }
   ],
   "source": [
    "np.random.randn(5, 5)"
   ]
  },
  {
   "cell_type": "code",
   "execution_count": 34,
   "metadata": {},
   "outputs": [
    {
     "data": {
      "text/plain": [
       "array([[1., 1.],\n",
       "       [1., 1.],\n",
       "       [1., 1.]])"
      ]
     },
     "execution_count": 34,
     "metadata": {},
     "output_type": "execute_result"
    }
   ],
   "source": [
    "np.ones((3,2))"
   ]
  },
  {
   "cell_type": "code",
   "execution_count": 7,
   "metadata": {},
   "outputs": [
    {
     "data": {
      "text/plain": [
       "array([[0., 0., 0.],\n",
       "       [0., 0., 0.],\n",
       "       [0., 0., 0.],\n",
       "       [0., 0., 0.]])"
      ]
     },
     "execution_count": 7,
     "metadata": {},
     "output_type": "execute_result"
    }
   ],
   "source": [
    "np.zeros((4, 3))"
   ]
  },
  {
   "cell_type": "markdown",
   "metadata": {},
   "source": [
    "We can also multiply matrices, either as a dot-product or a cross-product."
   ]
  },
  {
   "cell_type": "code",
   "execution_count": 28,
   "metadata": {},
   "outputs": [],
   "source": [
    "A = np.random.randn(3, 3)\n",
    "B = np.random.randn(3, 2)"
   ]
  },
  {
   "cell_type": "code",
   "execution_count": 29,
   "metadata": {},
   "outputs": [
    {
     "data": {
      "text/plain": [
       "array([[ 0.14204565, -0.70993346, -0.84807117],\n",
       "       [ 0.0107026 , -0.46219455,  1.48010672],\n",
       "       [ 0.45563562,  1.22179254,  0.03044326]])"
      ]
     },
     "execution_count": 29,
     "metadata": {},
     "output_type": "execute_result"
    }
   ],
   "source": [
    "A"
   ]
  },
  {
   "cell_type": "code",
   "execution_count": 30,
   "metadata": {},
   "outputs": [
    {
     "data": {
      "text/plain": [
       "array([[ 0.18889061, -0.25707058],\n",
       "       [ 1.24349507, -0.34735751],\n",
       "       [ 0.98607691, -0.4372636 ]])"
      ]
     },
     "execution_count": 30,
     "metadata": {},
     "output_type": "execute_result"
    }
   ],
   "source": [
    "B"
   ]
  },
  {
   "cell_type": "code",
   "execution_count": 31,
   "metadata": {},
   "outputs": [
    {
     "data": {
      "text/plain": [
       "array([[-0.21801415, -0.16019268,  0.09758401],\n",
       "       [ 0.51412619,  1.84050541,  0.57101901],\n",
       "       [ 0.01331173,  0.0300194 , -1.40401428]])"
      ]
     },
     "execution_count": 31,
     "metadata": {},
     "output_type": "execute_result"
    }
   ],
   "source": [
    "np.cross(A, B)"
   ]
  },
  {
   "cell_type": "code",
   "execution_count": 32,
   "metadata": {},
   "outputs": [
    {
     "data": {
      "text/plain": [
       "array([[-1.69223107,  0.58091562],\n",
       "       [ 0.88678405, -0.48940137],\n",
       "       [ 1.63537768, -0.55484106]])"
      ]
     },
     "execution_count": 32,
     "metadata": {},
     "output_type": "execute_result"
    }
   ],
   "source": [
    "np.dot(A, B)"
   ]
  },
  {
   "cell_type": "markdown",
   "metadata": {},
   "source": [
    "There are some other convenient functions for creating and manipulating matrices as well, which you can read about in the NumPy documentation: https://docs.scipy.org/doc/"
   ]
  },
  {
   "cell_type": "markdown",
   "metadata": {},
   "source": [
    "# Creating our Neural Network\n",
    "\n",
    "To start, let's define the problem we want our neural network to solve.\n",
    "\n",
    "Given two inputs $a$ and $b$, we would like our network to decide the result $c$ as follows:\n",
    "\n",
    "$$\\frac{\\left.\\begin{matrix}\n",
    "a & b &\n",
    "\\end{matrix}\\right|\\begin{matrix}\n",
    "& c \n",
    "\\end{matrix}}{\\left.\\begin{matrix}\n",
    "0 & 0 & \\\\\n",
    "0 & 1 & \\\\\n",
    "1 & 0 & \\\\\n",
    "1 & 1 & \n",
    "\\end{matrix}\\right|\\begin{matrix}\n",
    "& 0 \\\\ & 1  \\\\ & 1 \\\\ & 0\n",
    "\\end{matrix}}$$\n",
    "\n",
    "Neural networks work by passing inputs through successive layers of artificial neurons. The inputs are analogous to neurotransmitter activations of biological neurons, and the neurons apply a transformation function to the inputs when activated.\n",
    "\n",
    "In practice, neural networks can have many millions of neurons in many hundreds or thousands of layers, with most of those layers hidden from inspection. For this example, we'll use a simple 3-layer neural network: an input layer with only our two inputs $a$ and $b$, a single hidden layer, and the output layer with our output $c$.\n",
    "\n",
    "$$\n",
    "\\require{tikzjax}\n",
    "\\begin{tikzpicture}[shorten >=1pt,->,draw=black!50, node distance=\\layersep]\n",
    "    \\tikzstyle{every pin edge}=[<-,shorten <=1pt]\n",
    "    \\tikzstyle{neuron}=[circle,fill=black!25,minimum size=17pt,inner sep=0pt]\n",
    "    \\tikzstyle{input neuron}=[neuron, fill=green!50];\n",
    "    \\tikzstyle{output neuron}=[neuron, fill=red!50];\n",
    "    \\tikzstyle{hidden neuron}=[neuron, fill=blue!50];\n",
    "    \\tikzstyle{annot} = [text width=4em, text centered]\n",
    "    % Draw the input layer nodes\n",
    "    \\foreach \\name / \\y in {1,...,2}\n",
    "    % This is the same as writing \\foreach \\name / \\y in {1/1,2/2,3/3,4/4}\n",
    "        \\node[input neuron, pin=left:Input \\#\\y] (I-\\name) at (0,-\\y) {};\n",
    "\n",
    "    % Draw the hidden layer nodes\n",
    "    \\foreach \\name / \\y in {1,...,2}\n",
    "        \\path[yshift=0.5cm]\n",
    "            node[hidden neuron] (H-\\name) at (\\layersep,-\\y cm) {};\n",
    "\n",
    "    % Draw the output layer node\n",
    "    \\node[output neuron,pin={[pin edge={->}]right:Output}, right of=H-3] (O) {};\n",
    "\n",
    "    % Connect every node in the input layer with every node in the\n",
    "    % hidden layer.\n",
    "    \\foreach \\source in {1,...,2}\n",
    "        \\foreach \\dest in {1,...,2}\n",
    "            \\path (I-\\source) edge (H-\\dest);\n",
    "\n",
    "    % Connect every node in the hidden layer with the output layer\n",
    "    \\foreach \\source in {1,...,2}\n",
    "        \\path (H-\\source) edge (O);\n",
    "\n",
    "    % Annotate the layers\n",
    "    \\node[annot,above of=H-1, node distance=1cm] (hl) {Hidden layer};\n",
    "    \\node[annot,left of=hl] {Input layer};\n",
    "    \\node[annot,right of=hl] {Output layer};\n",
    "\\end{tikzpicture}\n",
    "$$\n"
   ]
  },
  {
   "cell_type": "code",
   "execution_count": null,
   "metadata": {},
   "outputs": [],
   "source": []
  }
 ],
 "metadata": {
  "kernelspec": {
   "display_name": "Python 3",
   "language": "python",
   "name": "python3"
  },
  "language_info": {
   "codemirror_mode": {
    "name": "ipython",
    "version": 3
   },
   "file_extension": ".py",
   "mimetype": "text/x-python",
   "name": "python",
   "nbconvert_exporter": "python",
   "pygments_lexer": "ipython3",
   "version": "3.7.3"
  }
 },
 "nbformat": 4,
 "nbformat_minor": 2
}
