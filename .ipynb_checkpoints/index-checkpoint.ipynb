{
 "cells": [
  {
   "cell_type": "markdown",
   "metadata": {},
   "source": [
    "# NeuroCamp Computer Science & Programming Day - Starter Notebook\n",
    "\n",
    "1. Introduce the Jupyter Notebook, and run a \"Hello World!\" program in a notebook.\n",
    "2. Variables and variable access.\n",
    "3. I/O & load data from file.\n",
    "4. What functions and modules are (we just used one of each).\n",
    "5. Loops and iteration.\n",
    "6. Row field access (or, `Dictionary` entry access by key).\n",
    "7. Conditionals, and template strings for simple output formatting.\n",
    "8. Math (change in measurement from A to B, percentage).\n",
    "9. Write formatted output to screen.\n",
    "\n",
    "## 1. Introduce the Jupyter Notebook, and run a \"Hello World!\" program in a notebook.\n",
    "\n",
    "This file that you are working with is called a Jupyter Notebook. It allows you to add and run code in locations within the file called \"cells\". Cells that run code will have square brackets in front of them, and may also have a cell number within them.\n",
    "\n",
    "For our work, we'll be using the Python language (version 3.7, currently). If you look at the top right of the window, you should see \"Python 3\". This is the language indicator, and shows you what language the file is expected to use.\n",
    "\n",
    "At the top left of this pane, you'll see the toolbar. That lets you control what's happening in the file and within the current cell. Most importantly, the right-most dropdown allows you to change a cell from \"Markdown\" explanatory text mode to \"Code\" Python programming mode.\n",
    "\n",
    "In the cell below, we use Python 3's built-in `print` function to write \"Hello, World!\" to the output console (displayed below the cell when it is run). We'll talk more about functions later. For now, just make sure you understand the mechanics of how the notebook interface works.\n",
    "\n",
    "**Feel free to play with the code cell below, and see if you can change the word \"World\" to display your name.**"
   ]
  },
  {
   "cell_type": "code",
   "execution_count": 11,
   "metadata": {},
   "outputs": [
    {
     "name": "stdout",
     "output_type": "stream",
     "text": [
      "Hello, World!\n"
     ]
    }
   ],
   "source": [
    "print(\"Hello, World!\")"
   ]
  },
  {
   "cell_type": "markdown",
   "metadata": {},
   "source": [
    "## 2. Variables and Variable Access\n",
    "\n",
    "One thing we do frequently when writing programs is create variables to store data in memory that we can retrieve later. You can think of a variable as a box in which you put a piece of data.\n",
    "\n",
    "Data can have different types: text (called \"strings\"), numbers (which can be \"integer\", \"float\", \"double\" and more), true/false (called \"boolean\") and more. We can also put structured and hierarchical data, such as lists, mappings (called \"Dictionaries\") and more, into variables. We'll see some of those later.\n",
    "\n",
    "Some languages require a different kind of box for each type of data you might want to put in. Python is gentler and allows us to put arbitrary types of data into the same variable. However, once you put a type of data into the variable, Python expects you to follow the rules of that type of data.\n",
    "\n",
    "In the next cell, we're creating a couple string variable and then printing their values. Notice that the `print` function can accept variables representing the text (\"string\" value) to be written to the output.\n",
    "\n",
    "**Once again, you should play with the code below and see if you can change the variable values.**"
   ]
  },
  {
   "cell_type": "code",
   "execution_count": 10,
   "metadata": {},
   "outputs": [
    {
     "name": "stdout",
     "output_type": "stream",
     "text": [
      "Hello, World!\n",
      "Bienvenue, Arabella!\n"
     ]
    }
   ],
   "source": [
    "greeting = \"Hello\"\n",
    "name = \"World\"\n",
    "\n",
    "print(greeting + \", \" + name + \"!\")\n",
    "\n",
    "greeting = \"Bienvenue\"\n",
    "name = \"Arabella\"\n",
    "\n",
    "print(greeting + \", \" + name + \"!\")"
   ]
  },
  {
   "cell_type": "markdown",
   "metadata": {},
   "source": [
    "As you see, we can use variables in expressions. This also allows us to do mathematics or manipulate the data they store."
   ]
  },
  {
   "cell_type": "code",
   "execution_count": 1,
   "metadata": {},
   "outputs": [
    {
     "name": "stdout",
     "output_type": "stream",
     "text": [
      "1 2 3 -1\n"
     ]
    }
   ],
   "source": [
    "a = 1\n",
    "b = 2\n",
    "c = a + b\n",
    "d = a - b\n",
    "\n",
    "print(a, b, c, d)"
   ]
  },
  {
   "cell_type": "markdown",
   "metadata": {},
   "source": [
    "W"
   ]
  }
 ],
 "metadata": {
  "kernelspec": {
   "display_name": "Python 3",
   "language": "python",
   "name": "python3"
  },
  "language_info": {
   "codemirror_mode": {
    "name": "ipython",
    "version": 3
   },
   "file_extension": ".py",
   "mimetype": "text/x-python",
   "name": "python",
   "nbconvert_exporter": "python",
   "pygments_lexer": "ipython3",
   "version": "3.7.3"
  }
 },
 "nbformat": 4,
 "nbformat_minor": 2
}
