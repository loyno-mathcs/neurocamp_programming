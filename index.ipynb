{
 "cells": [
  {
   "cell_type": "markdown",
   "metadata": {},
   "source": [
    "# NeuroCamp Computer Science & Programming Day - Starter Notebook\n",
    "\n",
    "1. Introduce the Jupyter Notebook, and run a \"Hello World!\" program in a notebook.\n",
    "2. Variables and variable access.\n",
    "3. I/O & load data from file.\n",
    "4. What functions and modules are (we just used one of each).\n",
    "5. Loops and iteration.\n",
    "6. Row field access (or, `Dictionary` entry access by key).\n",
    "7. Conditionals, and template strings for simple output formatting.\n",
    "8. Math (change in measurement from A to B, percentage).\n",
    "9. Write formatted output to screen.\n",
    "\n",
    "## 1. Introduce the Jupyter Notebook, and run a \"Hello World!\" program in a notebook.\n",
    "\n",
    "This file that you are working with is called a Jupyter Notebook. It allows you to add and run code in locations within the file called \"cells\". Cells that run code will have square brackets in front of them, and may also have a cell number within them.\n",
    "\n",
    "For our work, we'll be using the Python language (version 3.7, currently). If you look at the top right of the window, you should see \"Python 3\". This is the language indicator, and shows you what language the file is expected to use.\n",
    "\n",
    "At the top left of this pane, you'll see the toolbar. That lets you control what's happening in the file and within the current cell. Most importantly, the right-most dropdown allows you to change a cell from \"Markdown\" explanatory text mode to \"Code\" Python programming mode.\n",
    "\n",
    "In the cell below, we use Python 3's built-in `print` function to write `Hello, World!` to the output console (displayed below the cell when it is run). We'll talk more about functions later. For now, just make sure you understand the mechanics of how the notebook interface works.\n",
    "\n",
    "**Feel free to play with the code cell below, and see if you can change the word `\"World\"` to display your name.**"
   ]
  },
  {
   "cell_type": "code",
   "execution_count": 11,
   "metadata": {},
   "outputs": [
    {
     "name": "stdout",
     "output_type": "stream",
     "text": [
      "Hello, World!\n"
     ]
    }
   ],
   "source": [
    "print(\"Hello, World!\")"
   ]
  },
  {
   "cell_type": "markdown",
   "metadata": {},
   "source": [
    "## 2. Variables and variable access.\n",
    "\n",
    "One thing we do frequently when writing programs is create variables to store data in memory that we can retrieve later. You can think of a \"variable\" as a box in which you put a piece of data called a \"value\".\n",
    "\n",
    "You may have seen variables in algebra. When we do math, variables can only hold numbers.\n",
    "\n",
    "When we write programs, the data that variables hold can have different types:\n",
    "\n",
    "* text (called \"strings\")\n",
    "* numbers (which can be \"integer\", \"float\", \"double\" and more)\n",
    "* true/false (called \"boolean\")\n",
    "* other types of single values\n",
    "* structured and hierarchical data, such as lists, mappings (called \"Dictionaries\") and more (We'll see some of those later.)\n",
    "\n",
    "Some languages require a different kind of box for each type of data you might want to put in. Python is gentler and allows us to put arbitrary types of data into the same variable. However, once you put a type of data into the variable, Python expects you to follow the rules of that type of data.\n",
    "\n",
    "In the next cell, we're creating a couple string variables and then printing their values. Notice that the `print` function can accept variables representing the text (\"string\" value) to be written to the output.\n",
    "\n",
    "**Once again, you should play with the code below and see if you can change the variable values.**"
   ]
  },
  {
   "cell_type": "code",
   "execution_count": 10,
   "metadata": {},
   "outputs": [
    {
     "name": "stdout",
     "output_type": "stream",
     "text": [
      "Hello, World!\n",
      "Bienvenue, Arabella!\n"
     ]
    }
   ],
   "source": [
    "greeting = \"Hello\"\n",
    "name = \"World\"\n",
    "\n",
    "print(greeting + \", \" + name + \"!\")\n",
    "\n",
    "greeting = \"Bienvenue\"\n",
    "name = \"Arabella\"\n",
    "\n",
    "print(greeting + \", \" + name + \"!\")"
   ]
  },
  {
   "cell_type": "markdown",
   "metadata": {},
   "source": [
    "As you see, we can use variables in \"expressions\", like we did when we wrote `greeting + \", \" + name + \"!\"`. That expression performs an operation called \"concatenation\" on the text given to it, providing us with a new string value that has all the text smashed together. Expressions with number values also allow us to do mathematics, and more generally, expressions allow for manipulate the data stored in our variables.\n",
    "\n",
    "In the below cell, we are creating two variables, then using them to create four more variables where the values are computed using expressions.\n",
    "\n",
    "**Explore the code below to get a feel for how expressions work. For example, you might try to change the variable used in an expression, modify the mathematical operation used, or change the values of `a` and `b`.**"
   ]
  },
  {
   "cell_type": "code",
   "execution_count": 2,
   "metadata": {},
   "outputs": [
    {
     "name": "stdout",
     "output_type": "stream",
     "text": [
      "a = 1 , b = 2 , c = 3 , d = -1 , e = 2 , f = 0.5\n"
     ]
    }
   ],
   "source": [
    "a = 1\n",
    "b = 2\n",
    "c = a + b\n",
    "d = a - b\n",
    "e = a * b\n",
    "f = a / b\n",
    "\n",
    "print(\"a =\", a, \", b =\", b, \", c =\", c, \", d =\", d, \", e =\", e, \", f =\", f)"
   ]
  },
  {
   "cell_type": "markdown",
   "metadata": {},
   "source": [
    "## 3. I/O & load data from file\n",
    "\n",
    "When programming, \"I/O\" usually refers to \"input/output\", or the process of reading data from outside the program and delivering data outside the program.\n",
    "\n",
    "We've already seen an I/O function: `print`. The `print` function is used to deliver string data from within the program to the screen, which lives outside the program.\n",
    "\n",
    "Often, when working with I/O, we'll need to read from a file. In Python, files can be opened for reading using the `open` function, and lines can be read from the opened file using the `read` function.\n",
    "\n",
    "Below, we read from our data file, located at `./data/data.csv` and print it to the screen."
   ]
  },
  {
   "cell_type": "code",
   "execution_count": 4,
   "metadata": {},
   "outputs": [
    {
     "name": "stdout",
     "output_type": "stream",
     "text": [
      "Subject,OSPAN_Group,OSPAN_Score,Distracter_easy,Distracter_hard\n",
      "1,High,75,114.5,116.0\n",
      "2,High,75,146.6,106.9\n",
      "3,High,71,152.7,126.7\n",
      "4,High,71,105.3,99.2\n",
      "5,High,69,108.4,108.4\n",
      "6,High,67,120.6,113.0\n",
      "7,High,64,114.5,99.2\n",
      "8,High,63,175.9,146.0\n",
      "9,High,61,114.6,118.4\n",
      "10,High,58,163.4,100.8\n",
      "11,High,57,109.9,109.9\n",
      "12,High,55,129.8,90.1\n",
      "13,High,55,111.4,120.6\n",
      "14,High,55,125.2,120.6\n",
      "15,High,55,140.5,77.9\n",
      "16,High,55,161.3,152.1\n",
      "17,Low,52,120.6,123.7\n",
      "18,Low,51,142.0,128.2\n",
      "19,Low,51,117.6,129.8\n",
      "20,Low,50,116.0,109.9\n",
      "21,Low,48,151.1,152.7\n",
      "22,Low,46,119.1,106.9\n",
      "23,Low,41,142.0,135.9\n",
      "24,Low,38,116.1,107.7\n",
      "25,Low,38,135.9,109.9\n",
      "26,Low,36,148.1,117.6\n",
      "27,Low,22,163.4,154.2\n",
      "28,Low,20,120.6,106.9\n",
      "29,Low,19,106.1,107.7\n",
      "\n"
     ]
    }
   ],
   "source": [
    "opened_file = open('./data/data.csv')\n",
    "contents = opened_file.read()\n",
    "print(contents)\n",
    "opened_file.close()"
   ]
  },
  {
   "cell_type": "markdown",
   "metadata": {},
   "source": [
    "This is great! We can make it a bit better, though.\n",
    "\n",
    "Programmers often implement tools in computer languages to help them avoid problems. In this case, we have to remember to close the file after we're finished reading data from it. If we forget to do that, it can cause problems later on when trying to read the file, or even within the program.\n",
    "\n",
    "To avoid this problem, the Python developers added a convenient way to write this same code that automatically closes the file when done. This uses something called \"block syntax\", which means that there is a collection of statements that are indented that represent all the things we want to do with the file while it is open. The block is started with a `with` statement."
   ]
  },
  {
   "cell_type": "code",
   "execution_count": null,
   "metadata": {},
   "outputs": [],
   "source": [
    "with open('./data/data.csv') as opened_file:\n",
    "    "
   ]
  }
 ],
 "metadata": {
  "kernelspec": {
   "display_name": "Python 3",
   "language": "python",
   "name": "python3"
  },
  "language_info": {
   "codemirror_mode": {
    "name": "ipython",
    "version": 3
   },
   "file_extension": ".py",
   "mimetype": "text/x-python",
   "name": "python",
   "nbconvert_exporter": "python",
   "pygments_lexer": "ipython3",
   "version": "3.7.3"
  }
 },
 "nbformat": 4,
 "nbformat_minor": 2
}
